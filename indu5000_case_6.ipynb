{
 "cells": [
  {
   "cell_type": "markdown",
   "source": "# Case 6",
   "metadata": {
    "tags": [],
    "is_collapsed": false,
    "cell_id": "00000-bffdebe8-af8b-4bf5-87d2-e77a65241bc4",
    "deepnote_cell_type": "text-cell-h1"
   }
  },
  {
   "cell_type": "markdown",
   "source": "## Business Problem",
   "metadata": {
    "tags": [],
    "is_collapsed": false,
    "cell_id": "00001-00b10f72-50fd-4d42-95b0-9c4916668ecf",
    "deepnote_cell_type": "text-cell-h2"
   }
  },
  {
   "cell_type": "markdown",
   "source": "We need to use Object Oriented Programming in order to create a system that is capable to store and handle the information for a real state agent that sells houses different apartments and houses",
   "metadata": {
    "tags": [],
    "cell_id": "00002-c52f41a4-f9c1-4130-b923-4ff3e7d4ea7e",
    "deepnote_cell_type": "markdown"
   }
  },
  {
   "cell_type": "markdown",
   "source": "## Class Definition",
   "metadata": {
    "tags": [],
    "is_collapsed": false,
    "cell_id": "00003-07e6a860-f413-4f5a-b0c3-96dc2f790386",
    "deepnote_cell_type": "text-cell-h2"
   }
  },
  {
   "cell_type": "markdown",
   "source": "The solution to this problem starts with the definition of a super class capable of defining the basic characteristics of a living place",
   "metadata": {
    "tags": [],
    "cell_id": "00004-1c8d2d83-8e50-47e4-8fc5-83bc06e5a2fd",
    "deepnote_cell_type": "markdown"
   }
  },
  {
   "cell_type": "code",
   "source": "class living_place:\n    def __init__(self, rooms, main_wall_color,stories,bathrooms,sq_meters,address):\n        self.rooms = rooms\n        self.main_wall_color = main_wall_color\n        self.stories = stories\n        self.bathrooms = bathrooms\n        self.sq_meters = sq_meters\n        self.on_sale = True\n        self.address = address",
   "metadata": {
    "tags": [],
    "cell_id": "00004-ed464674-9e30-44ea-9b62-c5ec44ec856e",
    "deepnote_to_be_reexecuted": false,
    "source_hash": "32b2b449",
    "execution_start": 1635961164833,
    "execution_millis": 25,
    "deepnote_cell_type": "code"
   },
   "outputs": [],
   "execution_count": 1
  },
  {
   "cell_type": "markdown",
   "source": "With the class already defined, we can create a new object in order to test how the class works.",
   "metadata": {
    "tags": [],
    "cell_id": "00006-a89e104e-3636-4c32-92b7-a50d5ecd372b",
    "deepnote_cell_type": "markdown"
   }
  },
  {
   "cell_type": "code",
   "source": "living_place_test = living_place(3,'White',1,2,50,'CALLE 74 # 14-14')",
   "metadata": {
    "tags": [],
    "cell_id": "00007-0868797a-6555-408a-a0e2-bcb37df9e7e4",
    "deepnote_to_be_reexecuted": false,
    "source_hash": "288f5fb",
    "execution_start": 1635961164859,
    "execution_millis": 0,
    "deepnote_cell_type": "code"
   },
   "outputs": [],
   "execution_count": 2
  },
  {
   "cell_type": "markdown",
   "source": "We can request the information stored in the arguments. ",
   "metadata": {
    "tags": [],
    "cell_id": "00008-d7f2aa94-503c-4546-8ea6-16da1c7a55f8",
    "deepnote_cell_type": "markdown"
   }
  },
  {
   "cell_type": "code",
   "source": "print('Rooms: ',living_place_test.rooms)\nprint('Main Wall Color: ',living_place_test.main_wall_color)\nprint('Stories: ',living_place_test.stories)\nprint('Bathrooms: ',living_place_test.bathrooms)\nprint('Square_meters: ',living_place_test.sq_meters)\nprint('Is on Sale?: ',living_place_test.on_sale)\nprint('Address: ',living_place_test.address)",
   "metadata": {
    "tags": [],
    "cell_id": "00008-dc1ad563-d09f-429e-8234-62e065f233dc",
    "deepnote_to_be_reexecuted": false,
    "source_hash": "b2beffbe",
    "execution_start": 1635961164861,
    "execution_millis": 6,
    "deepnote_cell_type": "code"
   },
   "outputs": [
    {
     "name": "stdout",
     "text": "Rooms:  3\nMain Wall Color:  White\nStories:  1\nBathrooms:  2\nSquare_meters:  50\nIs on Sale?:  True\nAddress:  CALLE 74 # 14-14\n",
     "output_type": "stream"
    }
   ],
   "execution_count": 3
  },
  {
   "cell_type": "markdown",
   "source": "But this super class is ussually too broad, and a more detailed definition of objects is needed. So, we can use the creted class in order to create two new types of objects: Apartments and houses.",
   "metadata": {
    "tags": [],
    "cell_id": "00006-71de3b1c-1a3a-4ae5-903d-a010e1cd9ef5",
    "deepnote_cell_type": "markdown"
   }
  },
  {
   "cell_type": "code",
   "source": "class apartment(living_place):\n    def __init__(self, rooms, main_wall_color,stories,bathrooms,sq_meters,address,floor_located,has_gym,security_type):\n        super().__init__(rooms, main_wall_color,stories,bathrooms,sq_meters,address)\n        self.floor_located = floor_located\n        self.has_gym = has_gym\n        self.security_type = security_type",
   "metadata": {
    "tags": [],
    "cell_id": "00011-16d412a7-69f7-4e7f-92b6-a1a918536a43",
    "deepnote_to_be_reexecuted": false,
    "source_hash": "c465eef9",
    "execution_start": 1635961164862,
    "execution_millis": 3,
    "deepnote_cell_type": "code"
   },
   "outputs": [],
   "execution_count": 4
  },
  {
   "cell_type": "code",
   "source": "class house(living_place):\n    def __init__(self,rooms,main_wall_color,stories,bathrooms, sq_meters,address,main_outside_color,gated_community,security_type):\n        super().__init__(rooms, main_wall_color,stories,bathrooms,sq_meters,address)\n        self.main_outside_color = main_outside_color\n        self.gated_community = gated_community\n        self.security_type = security_type",
   "metadata": {
    "tags": [],
    "cell_id": "00012-0b0d4338-a095-4c98-bf7b-020bd5d06927",
    "deepnote_to_be_reexecuted": false,
    "source_hash": "b60c663f",
    "execution_start": 1635961164870,
    "execution_millis": 0,
    "deepnote_cell_type": "code"
   },
   "outputs": [],
   "execution_count": 5
  },
  {
   "cell_type": "markdown",
   "source": "We can now start to store the information by creating the apartments and houses",
   "metadata": {
    "tags": [],
    "cell_id": "00013-a0aa11c1-9dcf-4b83-9a67-d6dcc9102bab",
    "deepnote_cell_type": "markdown"
   }
  },
  {
   "cell_type": "code",
   "source": "house_1 = house(4,'Blue',2,4,250,'Calle 7 # 7-7','Gray',True,'Alarm')\napartment_1 = apartment(2,'Green',2,2,60,'Cra 1 # 4-4',15,True,'Fingerprint access' )",
   "metadata": {
    "tags": [],
    "cell_id": "00014-bfafef30-8299-4622-a987-6626568c8823",
    "deepnote_to_be_reexecuted": false,
    "source_hash": "39053615",
    "execution_start": 1635961164873,
    "execution_millis": 8,
    "deepnote_cell_type": "code"
   },
   "outputs": [],
   "execution_count": 6
  },
  {
   "cell_type": "markdown",
   "source": "We can request the information stored in the arguments.",
   "metadata": {
    "tags": [],
    "cell_id": "00015-412f6704-d981-41ba-a350-259d99e3de05",
    "deepnote_cell_type": "markdown"
   }
  },
  {
   "cell_type": "code",
   "source": "print('House 1')\nprint('Rooms: ',house_1.rooms)\nprint('Main Wall Color: ',house_1.main_wall_color)\nprint('Stories: ',house_1.stories)\nprint('Bathrooms: ',house_1.bathrooms)\nprint('Square_meters: ',house_1.sq_meters)\nprint('Is on Sale?: ',house_1.on_sale)\nprint('Address: ',house_1.address)\nprint('Main Outside Color: ',house_1.main_outside_color)\nprint('Is a Gated Community?: ',house_1.gated_community)\nprint('Security Type: ',house_1.security_type)\nprint('\\n')\nprint('Apartment 1')\nprint('Rooms: ',apartment_1.rooms)\nprint('Main Wall Color: ',apartment_1.main_wall_color)\nprint('Stories: ',apartment_1.stories)\nprint('Bathrooms: ',apartment_1.bathrooms)\nprint('Square_meters: ',apartment_1.sq_meters)\nprint('Is on Sale?: ',apartment_1.on_sale)\nprint('Address: ',apartment_1.address)\nprint('Floor Located: ',apartment_1.floor_located)\nprint('Has Gym?: ',apartment_1.has_gym)\nprint('Security Type: ',house_1.security_type)",
   "metadata": {
    "tags": [],
    "cell_id": "00015-2ce5292a-33c1-42a2-8286-3acca9745749",
    "deepnote_to_be_reexecuted": false,
    "source_hash": "99720ce7",
    "execution_start": 1635961164884,
    "execution_millis": 50,
    "deepnote_cell_type": "code"
   },
   "outputs": [
    {
     "name": "stdout",
     "text": "House 1\nRooms:  4\nMain Wall Color:  Blue\nStories:  2\nBathrooms:  4\nSquare_meters:  250\nIs on Sale?:  True\nAddress:  Calle 7 # 7-7\nMain Outside Color:  Gray\nIs a Gated Community?:  True\nSecurity Type:  Alarm\n\n\nApartment 1\nRooms:  2\nMain Wall Color:  Green\nStories:  2\nBathrooms:  2\nSquare_meters:  60\nIs on Sale?:  True\nAddress:  Cra 1 # 4-4\nFloor Located:  15\nHas Gym?:  True\nSecurity Type:  Alarm\n",
     "output_type": "stream"
    }
   ],
   "execution_count": 7
  },
  {
   "cell_type": "markdown",
   "source": "## Methods",
   "metadata": {
    "tags": [],
    "is_collapsed": false,
    "cell_id": "00017-fa721c9b-16bb-4dd3-8131-973c128f9809",
    "deepnote_cell_type": "text-cell-h2"
   }
  },
  {
   "cell_type": "markdown",
   "source": "We can also add different functions (Called methods ) to the class creation in order to permor two kids of jobs: Extract the information and Make changes to the attributes of the object",
   "metadata": {
    "tags": [],
    "cell_id": "00018-10cefa27-ad10-463b-9278-891e4b167875",
    "deepnote_cell_type": "markdown"
   }
  },
  {
   "cell_type": "code",
   "source": "class living_place:\n    def __init__(self, rooms, main_wall_color,stories,bathrooms,sq_meters,address):\n        self.rooms = rooms\n        self.main_wall_color = main_wall_color\n        self.stories = stories\n        self.bathrooms = bathrooms\n        self.sq_meters = sq_meters\n        self.on_sale = True\n        self.address = address\n\n    # Methods to Get Information\n    def get_number_rooms(self):\n        return self.rooms\n\n    def get_main_wall_color(self):\n        return self.main_wall_color\n\n    # Methods to Modify the information\n\n    def sell_living_place(self):\n        self.on_sale = False\n        return 'Congratulations! You made a sale'\n\n    def correct_wrong_address(self,right_address):\n        self.address = right_address\n        return f'Address has been correctly updated to {right_address}'\n",
   "metadata": {
    "tags": [],
    "cell_id": "00019-f550fa9f-735d-4571-8865-cb9f2b9fa24d",
    "deepnote_to_be_reexecuted": false,
    "source_hash": "d7fd381f",
    "execution_start": 1635961164941,
    "execution_millis": 1,
    "deepnote_cell_type": "code"
   },
   "outputs": [],
   "execution_count": 8
  },
  {
   "cell_type": "markdown",
   "source": "As the super class as modified, all the information related to it must be updated",
   "metadata": {
    "tags": [],
    "cell_id": "00020-4a1286af-c489-4ae9-a626-172ae3985390",
    "deepnote_cell_type": "markdown"
   }
  },
  {
   "cell_type": "code",
   "source": "class house(living_place):\n    def __init__(self,rooms,main_wall_color,stories,bathrooms, sq_meters,address,main_outside_color,gated_community,security_type):\n        super().__init__(rooms, main_wall_color,stories,bathrooms,sq_meters,address)\n        self.main_outside_color = main_outside_color\n        self.gated_community = gated_community\n        self.security_type = security_type",
   "metadata": {
    "tags": [],
    "cell_id": "00020-7e6a9104-7c0c-4e23-acd3-c5449c0a6dbb",
    "deepnote_to_be_reexecuted": false,
    "source_hash": "b60c663f",
    "execution_start": 1635961164942,
    "execution_millis": 1,
    "deepnote_cell_type": "code"
   },
   "outputs": [],
   "execution_count": 9
  },
  {
   "cell_type": "markdown",
   "source": "We can define a new house",
   "metadata": {
    "tags": [],
    "cell_id": "00022-c2b72f1a-bad9-4c4a-84e3-7738c9bd9384",
    "deepnote_cell_type": "markdown"
   }
  },
  {
   "cell_type": "code",
   "source": "house_1 = house(4,'Blue',2,4,250,'Calle 7 # 7-7','Gray',True,'Alarm')\nhouse_2 = house(10,'White',3,8,500,'Calle 1 # 1-10','Cream',True,'Alarm')\napartment_1 = apartment(2,'Green',2,2,60,'Cra 1 # 4-4',15,True,'Fingerprint access' )",
   "metadata": {
    "tags": [],
    "cell_id": "00020-d28a28a7-32bf-4564-8bb0-bc9c42a3b386",
    "deepnote_to_be_reexecuted": false,
    "source_hash": "12216aa",
    "execution_start": 1635961164944,
    "execution_millis": 1,
    "deepnote_cell_type": "code"
   },
   "outputs": [],
   "execution_count": 10
  },
  {
   "cell_type": "markdown",
   "source": "We can sell the house",
   "metadata": {
    "tags": [],
    "cell_id": "00024-c592cd70-36a9-42f4-82da-eac606a23003",
    "deepnote_cell_type": "markdown"
   }
  },
  {
   "cell_type": "code",
   "source": "print('Before Sale:')\nprint('Is on Sale?: ',house_2.on_sale)\nprint('\\n')\nresponse = house.sell_living_place(house_2)\nprint(response)\nprint('\\n')\nprint('After Sale:')\nprint('Is on Sale?: ',house_2.on_sale)",
   "metadata": {
    "tags": [],
    "cell_id": "00021-483d93af-9280-4d3b-9189-80cbe8811e41",
    "deepnote_to_be_reexecuted": false,
    "source_hash": "2099328",
    "execution_start": 1635961164946,
    "execution_millis": 41,
    "deepnote_cell_type": "code"
   },
   "outputs": [
    {
     "name": "stdout",
     "text": "Before Sale:\nIs on Sale?:  True\n\n\nCongratulations! You made a sale\n\n\nAfter Sale:\nIs on Sale?:  False\n",
     "output_type": "stream"
    }
   ],
   "execution_count": 11
  },
  {
   "cell_type": "markdown",
   "source": "We can also print the color of the walls of the house",
   "metadata": {
    "tags": [],
    "cell_id": "00026-09f3642d-915d-46ae-88c5-06183243b1ff",
    "deepnote_cell_type": "markdown"
   }
  },
  {
   "cell_type": "code",
   "source": "main_color_to_print = house.get_main_wall_color(house_2)\nprint(main_color_to_print)",
   "metadata": {
    "tags": [],
    "cell_id": "00023-9b9937a1-07f5-4587-a7db-fb1f6a029f33",
    "deepnote_to_be_reexecuted": false,
    "source_hash": "2e6bfd46",
    "execution_start": 1635961164972,
    "execution_millis": 154574,
    "deepnote_cell_type": "code"
   },
   "outputs": [
    {
     "name": "stdout",
     "text": "White\n",
     "output_type": "stream"
    }
   ],
   "execution_count": 12
  },
  {
   "cell_type": "markdown",
   "source": "## Information Organization",
   "metadata": {
    "tags": [],
    "is_collapsed": false,
    "cell_id": "00028-57ffe0d6-e253-4959-8766-f5f37debd0d4",
    "deepnote_cell_type": "text-cell-h2"
   }
  },
  {
   "cell_type": "markdown",
   "source": "Finally, all the information can be stored on a list and used for further analysis",
   "metadata": {
    "tags": [],
    "cell_id": "00029-b314b73f-28df-480a-90d1-82588dc97032",
    "deepnote_cell_type": "markdown"
   }
  },
  {
   "cell_type": "code",
   "source": "properties_on_sale = [house_1,house_2,apartment_1]",
   "metadata": {
    "tags": [],
    "cell_id": "00030-0c287351-5657-4c6d-b7e3-f4054068c2b9",
    "deepnote_to_be_reexecuted": false,
    "source_hash": "aed92088",
    "execution_start": 1635961164976,
    "execution_millis": 11,
    "deepnote_cell_type": "code"
   },
   "outputs": [],
   "execution_count": 13
  },
  {
   "cell_type": "code",
   "source": "colors_of_listings = []\nfor property in properties_on_sale:\n    colors_of_listings.append(living_place.get_main_wall_color(property))\nprint(colors_of_listings)",
   "metadata": {
    "tags": [],
    "cell_id": "00031-71aaa164-1dcf-4dfd-81b3-3fb4e6936b67",
    "deepnote_to_be_reexecuted": false,
    "source_hash": "8fd2c93b",
    "execution_start": 1635961286383,
    "execution_millis": 8,
    "deepnote_cell_type": "code"
   },
   "outputs": [
    {
     "name": "stdout",
     "text": "['Blue', 'White', 'Green']\n",
     "output_type": "stream"
    }
   ],
   "execution_count": 16
  },
  {
   "cell_type": "markdown",
   "source": "<a style='text-decoration:none;line-height:16px;display:flex;color:#5B5B62;padding:10px;justify-content:end;' href='https://deepnote.com?utm_source=created-in-deepnote-cell&projectId=c3e4079d-b65d-4f98-a9c4-e84568c199f2' target=\"_blank\">\n<img alt='Created in deepnote.com' style='display:inline;max-height:16px;margin:0px;margin-right:7.5px;' src='data:image/svg+xml;base64,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' > </img>\nCreated in <span style='font-weight:600;margin-left:4px;'>Deepnote</span></a>",
   "metadata": {
    "tags": [],
    "created_in_deepnote_cell": true,
    "deepnote_cell_type": "markdown"
   }
  }
 ],
 "nbformat": 4,
 "nbformat_minor": 2,
 "metadata": {
  "orig_nbformat": 2,
  "deepnote": {
   "is_reactive": false
  },
  "deepnote_notebook_id": "1f62d10d-01f8-4840-a261-15b199720825",
  "deepnote_execution_queue": []
 }
}